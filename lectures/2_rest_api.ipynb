{
 "cells": [
  {
   "cell_type": "markdown",
   "metadata": {},
   "source": [
    "# Wykład 2 - Aplikacje internetowe i REST API"
   ]
  },
  {
   "cell_type": "markdown",
   "metadata": {},
   "source": [
    "## Architektura klient-serwer"
   ]
  },
  {
   "cell_type": "markdown",
   "metadata": {},
   "source": [
    "**Architektura klient-serwer** to model, w którym aplikacja jest podzielona na dwa główne komponenty: klienta i serwer. Klient to zazwyczaj przeglądarka internetowa użytkownika (lub aplikacja), która wysyła żądania do serwera, a serwer odpowiada, dostarczając dane lub wykonując określone operacje. Komunikacja między klientem a serwerem odbywa się za pośrednictwem protokołu HTTP lub HTTPS, co zapewnia ustandaryzowany sposób przesyłania informacji w sieci. Serwer przechowuje i przetwarza dane, obsługuje logikę aplikacji oraz zarządza zasobami, takimi jak system plików czy bazy danych. Po otrzymaniu żądania serwer generuje odpowiedź, która może być statyczną stroną HTML, dynamicznie wygenerowanym dokumentem, obiektem JSON lub wynikiem zapytania do bazy danych.\n",
    "\n",
    "Architektura klient-serwer jest kluczowa dla skalowalności i elastyczności aplikacji internetowych. Klient nie musi posiadać zaawansowanej logiki ani przetwarzać dużych ilości danych, ponieważ te zadania są realizowane na serwerze. Umożliwia to użytkownikom dostęp do aplikacji z różnych urządzeń, takich jak komputery, smartfony czy tablety, bez konieczności instalacji dodatkowego oprogramowania. Dodatkowo, model ten ułatwia rozproszenie zasobów serwerowych, co pozwala na skalowanie infrastruktury w zależności od obciążenia, np. przez użycie chmur obliczeniowych. Dzięki tej architekturze aplikacje internetowe mogą być bardziej wydajne, bezpieczne i łatwiejsze w utrzymaniu."
   ]
  },
  {
   "cell_type": "markdown",
   "metadata": {},
   "source": [
    "![alt text](../img/Client-server-model.svg \"Client server model\")"
   ]
  },
  {
   "cell_type": "markdown",
   "metadata": {},
   "source": [
    "Architektura klient-serwer to znacznie więcej niż jedynie interakcja między przeglądarką internetową, a serwerem aplikacyjnym. W rzeczywistości serwer pełni wiele ról, w tym nie tylko obsługę logiki aplikacji, ale także integrację z bazami danych, które przechowują i zarządzają informacjami. Serwer aplikacyjny często komunikuje się z dodatkowymi usługami, takimi jak systemy przetwarzania plików, usługi chmurowe, serwery cache czy mikrousługi odpowiadające za poszczególne funkcje systemu. Przykładem może być serwer przetwarzający pliki multimedialne, które użytkownik przesyła lub odbiera, albo serwer wysyłający powiadomienia push w czasie rzeczywistym.\n",
    "\n",
    "Klient w tej architekturze również nie ogranicza się wyłącznie do przeglądarki internetowej. Klientami mogą być różne aplikacje działające w przeglądarkach, aplikacje mobilne, a także aplikacje stacjonarne, które komunikują się z serwerem za pomocą standardowych interfejsów, takich jak REST API lub WebSocket. Te aplikacje mogą wysyłać i odbierać dane w formacie binarnym lub tekstowym, na przykład JSON lub XML, co umożliwia elastyczną i szybką wymianę danych. Dzięki takiej różnorodności zarówno po stronie serwera, jak i klienta, architektura klient-serwer zapewnia skalowalność i złożoność, potrzebną do realizacji zadań we współczesnych i wymagających aplikacjach internetowych."
   ]
  },
  {
   "cell_type": "markdown",
   "metadata": {},
   "source": [
    "![alt text](../img/distributed-client-server.jpg \"Distributed client server model\")"
   ]
  },
  {
   "cell_type": "markdown",
   "metadata": {},
   "source": [
    "### Architektura mikrousługowa"
   ]
  },
  {
   "cell_type": "markdown",
   "metadata": {},
   "source": [
    "**Architektura mikrousługowa** (ang. microservice architecture) to podejście do projektowania aplikacji, w którym cały system jest podzielona na małe, niezależne komponenty zwane mikrousługami. Każda mikrousługa realizuje konkretną funkcję lub zestaw funkcji, takich jak zarządzanie użytkownikami, płatności, czy obsługa zamówień. Mikrousługi działają jako osobne procesy i komunikują się ze sobą poprzez lekkie protokoły, najczęściej HTTP, AMQP lub gRPC, wykorzystując lekkie formaty danych takie jak JSON. Każda mikrousługa może być rozwijana, wdrażana i skalowana niezależnie od innych, co umożliwia zespołom projektowym pracę nad różnymi funkcjonalnościami równocześnie, bez ryzyka wprowadzenia błędów w innych częściach systemu.\n",
    "\n",
    "Znaczącą zaletą architektury mikrousługowej jest elastyczność oraz skalowalność. Dzięki rozdzieleniu aplikacji na małe komponenty, każda mikrousługa może być wdrożona na różnych technologiach i infrastrukturach, w zależności od wymagań. Na przykład, niektóre mikrousługi mogą wymagać większej mocy obliczeniowej lub więcej pamięci operacyjnej, więc można je skalować niezależnie od innych. Ponadto, awaria jednej mikrousługi nie powinna wpłynąć na działanie pozostałych, co zwiększa odporność aplikacji. Architektura mikrousługowa jest szczególnie popularna w środowiskach chmurowych, gdzie dynamiczne skalowanie oraz automatyzacja wdrożeń pozwalają na szybką adaptację do zmieniających się potrzeb biznesowych."
   ]
  },
  {
   "cell_type": "markdown",
   "metadata": {},
   "source": [
    "![alt text](../img/microservices.png \"Microservice model\")"
   ]
  },
  {
   "cell_type": "markdown",
   "metadata": {},
   "source": [
    "### Podejście synchroniczne czy asynchroniczne?"
   ]
  },
  {
   "cell_type": "markdown",
   "metadata": {},
   "source": [
    "Aplikacje internetowe synchroniczne są bardziej zasobożerne w typowych scenariuszach z powodu sposobu, w jaki obsługują żądania użytkowników. W modelu **synchronicznym** każda operacja, taka jak zapytanie do bazy danych lub wywołanie zewnętrznego API, powoduje blokowanie wątku, który obsługuje dane żądanie. To oznacza, że zasoby (takie jak wątki i pamięć) są zajęte, dopóki operacja nie zostanie zakończona. Przy dużej liczbie równoczesnych żądań aplikacja synchroniczna może szybko zużyć zasoby serwera, co prowadzi do ograniczenia jej skalowalności. Nawet gdy serwer ma odpowiednią ilość zasobów, wydłużenie czasu odpowiedzi może wpłynąć negatywnie na doświadczenie użytkownika. W praktyce, aplikacje synchroniczne często wymagają większych zasobów, zwłaszcza w sytuacjach, gdzie operacje wejścia/wyjścia, takie jak komunikacja z bazą danych czy obsługa plików, są dominujące.\n",
    "\n",
    "***Asynchroniczne*** aplikacje internetowe są bardziej efektywne w wykorzystaniu zasobów, ponieważ pozwalają na nieblokujące operacje, co oznacza, że wątek nie jest zajęty podczas oczekiwania na zakończenie operacji I/O. W tym modelu serwer może jednocześnie obsługiwać wiele żądań bez blokowania wątków, co pozwala na bardziej wydajną obsługę dużej liczby równoczesnych operacji. Aplikacje asynchroniczne sprawdzają się najlepiej w scenariuszach, gdzie operacje I/O nie są długotrwałe, np. komunikacja z zewnętrznymi usługami sieciowymilub obsługa dużej liczby krótkich żądań od użytkowników. Z drugiej strony, aplikacje asynchroniczne mogą być bardziej złożone do zaimplementowania, ponieważ wymagają uwzględnienia zarządzania stanami i obsługi zdarzeń. Dlatego, jeżeli aplikacja nie wymaga obsługi dużej liczby żądań na raz, a logika biznesowa jest prostsza, model synchroniczny może być łatwiejszy do wdrożenia i utrzymania. Analogicznie, model synchroniczny jest warty zastosowania w scenariuszach realizowania przez aplikację bardziej złożonych zadań wymagających większej mocy obliczeniowej.\n",
    "\n",
    "**Pula połączeń** (ang. connection pool) czyli maksymalna liczba jednocześnie obsługiwanych połączeń ma szczególne znaczenie w kontekście aplikacji synchronicznych. W modelu synchronicznym każde żądanie często wymaga nawiązania nowego połączenia z bazą danych, co jest kosztowne pod względem wydajności. Pula połączeń pozwala na ponowne wykorzystanie istniejących połączeń, co znacznie poprawia wydajność systemu. Jednak w aplikacjach synchronicznych, gdzie każde połączenie rezerwuje i blokuje wątek, pula może szybko się wyczerpać przy dużej liczbie równoczesnych żądań, co prowadzi do problemów z wydajnością. Z kolei w aplikacjach asynchronicznych połączenia nie są blokowane, więc zasoby puli połączeń są bardziej efektywnie zarządzane, co pozwala na obsługę większej liczby żądań. Dlatego w aplikacjach intensywnie korzystających z bazy danych, szczególnie tych synchronicznych, warto starannie dostosować wielkość puli połączeń, aby zminimalizować opóźnienia i optymalizować wykorzystanie zasobów."
   ]
  },
  {
   "cell_type": "markdown",
   "metadata": {},
   "source": [
    "![alt text](../img/connection_pool.webp \"Connection pool\")"
   ]
  },
  {
   "cell_type": "markdown",
   "metadata": {},
   "source": [
    "### Odwrócone proxy"
   ]
  },
  {
   "cell_type": "markdown",
   "metadata": {},
   "source": [
    "**Odwrócone proxy** (ang. reversed proxy) odgrywa istotną rolę w optymalizacji pracy zarówno aplikacji synchronicznych, jak i asynchronicznych, szczególnie w kontekście zarządzania zasobami i ruchem sieciowym. Odwrócone proxy działa jako pośrednik między klientem a serwerem aplikacyjnym, rozdzielając ruch przychodzący na wiele serwerów backendowych. Dzięki temu serwer aplikacyjny nie jest bezpośrednio narażony na nadmiarowe żądania, co zmniejsza obciążenie i zwiększa skalowalność. W kontekście aplikacji synchronicznych, odwrócone proxy może pomóc zarządzać dużą liczbą równoczesnych żądań, rozkładając je na różne instancje serwerów lub używając mechanizmów buforowania odpowiedzi. Dzięki temu można złagodzić problemy wynikające z blokowania wątków i nadmiernego zużycia zasobów.\n",
    "\n",
    "Dla aplikacji asynchronicznych odwrócone proxy również odgrywa kluczową rolę, szczególnie w przypadku zarządzania wieloma niezależnymi usługami mikrousługowymi. Proxy może kierować żądania do odpowiednich mikrousług, optymalizując przepływ danych między klientem a serwerem i poprawiając ogólną wydajność systemu. Ponadto, odwrócone proxy często oferuje funkcje takie jak równoważenie obciążenia, zarządzanie certyfikatami SSL, oraz cache'owanie statycznych treści, co minimalizuje czas odpowiedzi. W środowisku, w którym aplikacje asynchroniczne przetwarzają wiele operacji I/O, takie rozwiązania jak odwrócone proxy mogą znacząco poprawić wydajność aplikacji, szczególnie w scenariuszach wysokiego obciążenia. W obu przypadkach, zarówno dla aplikacji synchronicznych, jak i asynchronicznych, odwrócone proxy stanowi warstwę, która wspiera skalowalność, bezpieczeństwo i optymalizację zasobów.\n",
    "\n",
    "Jednym z najpopularniejszych przykładów odwróconego proxy jest [nginx](https://nginx.org/en/)."
   ]
  },
  {
   "cell_type": "markdown",
   "metadata": {},
   "source": [
    "![alt text](../img/nginx_schema.png \"nginx schema\")"
   ]
  },
  {
   "cell_type": "markdown",
   "metadata": {},
   "source": [
    "## Protokół HTTP"
   ]
  },
  {
   "cell_type": "markdown",
   "metadata": {},
   "source": [
    "**Protokół HTTP** (Hypertext Transfer Protocol) jest fundamentem komunikacji w aplikacjach internetowych, zapewniając ustandaryzowany sposób wymiany danych między klientem, a serwerem. Protokół HTTP działa w modelu żądanie-odpowiedź, w którym klient wysyła żądanie do serwera, a serwer odpowiada, przesyłając odpowiednie dane. W protokole HTTP istnieje kilka kluczowych metod, które definiują rodzaj operacji, jaką klient chce wykonać:\n",
    "- GET, najpopularniejsza metoda, służąca do pobierania zasobów z serwera,\n",
    "- POST - do tworzenia nowych zasobów na serwerze, \n",
    "- PUT - do całościowej aktualizacji zasobów, \n",
    "- DELETE - do usuwania zasobów,\n",
    "- PATCH - do częściowej aktualizacji zasobu. \n",
    "\n",
    "Kody odpowiedzi HTTP informują klienta o statusie wykonania żądania. Kody te są podzielone na różne kategorie, takie jak \n",
    "- 200-299 - poprawnie wykonana operacja, \n",
    "- 300-399 - przekierowanie, \n",
    "- 400-499  -błędy po stronie klienta,\n",
    "- 500-599 - błędy po stronie serwera. \n",
    "\n",
    "Przykładowo, kod 200 oznacza, że żądanie zakończyło się sukcesem, 404 wskazuje, że zasób nie został znaleziony, a 500 informuje o wewnętrznym błędzie serwera. Ważnym aspektem HTTP jest też możliwość przekazywania nagłówków, które zawierają dodatkowe informacje, takie jak dane o poświadczeniach, sesji, cache, czy typy akceptowanych treści (np. JSON, czy XML). HTTP jest również protokołem bezstanowym, co oznacza, że każde żądanie jest niezależne od poprzedniego. Aby utrzymać sesję, aplikacje internetowe korzystają z mechanizmów takich jak ciasteczka (cookies) czy tokeny."
   ]
  },
  {
   "cell_type": "markdown",
   "metadata": {},
   "source": [
    "### REST API"
   ]
  },
  {
   "cell_type": "markdown",
   "metadata": {},
   "source": [
    "**REST API** (Representational State Transfer Application Programming Interface) to architektura systemowa, która jest szeroko stosowana w budowie aplikacji internetowych. REST API działa w oparciu o protokół HTTP, co czyni ją łatwą w użyciu i zgodną z istniejącymi standardami sieci web. Komunikacja w REST API opiera się na wysyłaniu i odbieraniu danych w formacie tekstowym, najczęściej **JSON** (JavaScript Object Notation). REST API umożliwia interakcję z zasobami (takimi jak użytkownicy, produkty, zamówienia) za pośrednictwem unikalnych adresów URL, gdzie każda operacja jest wykonywana za pomocą określonych metod HTTP."
   ]
  },
  {
   "cell_type": "markdown",
   "metadata": {},
   "source": [
    "Przykład URL, który pobiera listę uytkowników z REST API (metoda GET):\n",
    "\n",
    "`http://api.example.com/users`\n",
    "\n",
    "W tym przypadku klient wysyła żądanie do serwera o zwrócenie listy użytkowników. Serwer, po przetworzeniu tego żądania, zwraca odpowiedź z danymi w formacie JSON, która może wyglądać następująco:\n",
    "\n",
    "```\n",
    "[\n",
    "  {\"id\": 1, \"name\": \"John Doe\"},\n",
    "  {\"id\": 2, \"name\": \"Jane Doe\"}\n",
    "]\n",
    "```"
   ]
  },
  {
   "cell_type": "markdown",
   "metadata": {},
   "source": [
    "Podobnie, aby uzyskać szczegóły dotyczące konkretnego użytkownika, można wysłać żądanie do zasobu z jego identyfikatorem, co umożliwi pobranie wskazanego zasobu (metoda GET):\n",
    "\n",
    "`http://api.example.com/users/1`"
   ]
  },
  {
   "cell_type": "markdown",
   "metadata": {},
   "source": [
    "Metody HTTP w REST API pełnią kluczową rolę w definiowaniu, jaką operację chcemy wykonać na zasobie. Oprócz metody GET, która służy do pobierania zasobów, REST API korzysta z innych metod, takich jak POST, która tworzy nowy zasób. \n",
    "\n",
    "Przykładowo, w celu dodania nowego użytkownika należy wywołać następujący URL za pomocą metody POST:\n",
    "\n",
    "`http://api.example.com/users`\n",
    "\n",
    "a następnie przekazać dane nowego użytkownika w formacie JSON za pomocą ciała żądania (ang. request body):\n",
    "\n",
    "```\n",
    "{\"name\": \"New User\", \"email\": \"newuser@example.com\"}\n",
    "```"
   ]
  },
  {
   "cell_type": "markdown",
   "metadata": {},
   "source": [
    "Jednym z kluczowych aspektów REST API jest to, że operacje są \"bezstanowe\". Oznacza to, że każde żądanie zawiera wszystkie informacje potrzebne do jego przetworzenia, bez konieczności pamiętania poprzednich żądań. REST API pozwala na łatwą skalowalność i elastyczność, dzięki czemu jest idealnym rozwiązaniem dla aplikacji internetowych i mobilnych, które potrzebują komunikować się z serwerem w sposób prosty i wydajny.\n",
    "\n",
    "Przykłady zastosowań REST API są szerokie. Może to być system e-commerce, w którym klienci pobierają produkty (GET), dodają je do koszyka (POST), aktualizują ilość zamówionych produktów (PUT) lub usuwają pozycje z koszyka (DELETE). REST API jest również używany do integracji z zewnętrznymi usługami, takimi jak systemy płatności, systemy wysyłkowe lub media społecznościowe, zapewniając jednolitą i przewidywalną komunikację między aplikacjami."
   ]
  },
  {
   "cell_type": "markdown",
   "metadata": {},
   "source": [
    "### Asynchroniczna obsługa żądań"
   ]
  },
  {
   "cell_type": "markdown",
   "metadata": {},
   "source": [
    "**Asynchroniczne żądania HTTP** w Pythonie mogą być obsługiwane za pomocą biblioteki [aiohttp](https://docs.aiohttp.org/en/stable/), która pozwala na prowadzenie wydajnej komunikacji sieciowej, zarówno po stronie klienta, jak i serwera. Biblioteka aiohttp umożliwia wykonywanie nieblokujących operacji HTTP, dzięki czemu aplikacje mogą obsługiwać wiele żądań równocześnie, bez czekania na zakończenie każdego z nich. \n",
    "\n",
    "Biblioteka aiohttp oferuje również wsparcie dla tworzenia serwerów HTTP obsługujących asynchroniczne żądania, co jest szczególnie przydatne przy budowaniu wydajnych aplikacji. Serwer utworzony za pomocą aiohttp może obsługiwać wiele równoczesnych połączeń, nie blokując wątków, co czyni go idealnym rozwiązaniem do aplikacji wymagających skalowalności. Asynchroniczna obsługa żądań umożliwia np. serwowanie dynamicznych treści,\n",
    " czy komunikację z bazami danych w sposób wydajny.\n",
    "\n",
    "Warto mieć na uwadze fakt, że biblioteka aiohttp nie wchodzi w skład biblioteki standardowej języka Python, zatem wymagana jest jej instalacja."
   ]
  },
  {
   "cell_type": "markdown",
   "metadata": {},
   "source": [
    "Wykorzystanie biblioteki aiohttp w wysyłaniu żądań HTTP ogranicza się do wykorzystania klasy `ClientSession` w managerze kontekstu, a następnie wywołaniu korutyny której nazwa jest zgodna ze stosowaną metodą protokołu HTTP."
   ]
  },
  {
   "cell_type": "code",
   "execution_count": null,
   "metadata": {
    "vscode": {
     "languageId": "plaintext"
    }
   },
   "outputs": [],
   "source": [
    "import aiohttp\n",
    "import asyncio\n",
    "\n",
    "async def fetch(url: str) -> str:\n",
    "    async with aiohttp.ClientSession() as session:\n",
    "        async with session.get(url) as response:\n",
    "            return await response.json()\n",
    "\n",
    "\n",
    "async def main() -> None:\n",
    "    url = \"https://670bef0e7e5a228ec1cf1824.mockapi.io/api/v1/user\"\n",
    "    users = await fetch(url)\n",
    "\n",
    "    print(users)\n",
    "\n",
    "\n",
    "if __name__ == \"__main__\":\n",
    "    asyncio.run(main())\n"
   ]
  },
  {
   "cell_type": "markdown",
   "metadata": {},
   "source": [
    "Niektóre żądania moga wymagać przekazania pewnych danych w nagłówku, np. tokena dostępu. Nagłówek przekazywany jest za pomocą parametru `headers` inicjalizatora klasy `ClientSession`."
   ]
  },
  {
   "cell_type": "code",
   "execution_count": null,
   "metadata": {
    "vscode": {
     "languageId": "plaintext"
    }
   },
   "outputs": [],
   "source": [
    "import aiohttp\n",
    "import asyncio\n",
    "\n",
    "async def fetch(url: str, header: dict) -> str:\n",
    "    async with aiohttp.ClientSession(headers=header) as session:\n",
    "        async with session.get(url) as response:\n",
    "            return await response.json()\n",
    "\n",
    "\n",
    "async def main() -> None:\n",
    "    url = \"https://670bef0e7e5a228ec1cf1824.mockapi.io/api/v1/user\"\n",
    "    header = {\"Token\": \"Bearer SOME_CHARS\"}\n",
    "\n",
    "    users = await fetch(url=url, header=header)\n",
    "\n",
    "    print(users)\n",
    "\n",
    "\n",
    "if __name__ == \"__main__\":\n",
    "    asyncio.run(main())"
   ]
  },
  {
   "cell_type": "markdown",
   "metadata": {},
   "source": [
    "Analogicznie, w przypadku metod **POST**, **PUT** czy **PATCH** wymagane jest przekazanie ciała żądania w celu przesłania danych niezbędnych do utworzenia lub aktualizacji zasobu. W takiej sytuacji do korutyny wywołującej konkretną metodę HTTP należy dodać parametr `data`."
   ]
  },
  {
   "cell_type": "code",
   "execution_count": null,
   "metadata": {
    "vscode": {
     "languageId": "plaintext"
    }
   },
   "outputs": [],
   "source": [
    "import aiohttp\n",
    "import asyncio\n",
    "\n",
    "async def add_user(url: str, header: dict, body: dict) -> str:\n",
    "    async with aiohttp.ClientSession(headers=header) as session:\n",
    "        async with session.post(url, data=body) as response:\n",
    "            return await response.json()\n",
    "\n",
    "\n",
    "async def main() -> None:\n",
    "    url = \"https://670bef0e7e5a228ec1cf1824.mockapi.io/api/v1/user\"\n",
    "    header = {\"Token\": \"Bearer SOME_CHARS\"}\n",
    "    body = {\n",
    "        \"name\": \"Janusz Badziewiak\", \n",
    "        \"avatar\": \"https://naukawpolsce.pl/sites/default/files/styles/strona_glowna_slider_750x420/public/202005/portretProboscis_monkey_%28Nasalis_larvatus%29_male_head_0.jpg.webp?itok=HXkRpCtR\",\n",
    "    }\n",
    "\n",
    "    users = await add_user(url=url, header=header, body=body)\n",
    "\n",
    "    print(users)\n",
    "\n",
    "\n",
    "if __name__ == \"__main__\":\n",
    "    asyncio.run(main())"
   ]
  },
  {
   "cell_type": "markdown",
   "metadata": {},
   "source": [
    "## Zadania do wykonania na ćwiczeniach"
   ]
  },
  {
   "cell_type": "markdown",
   "metadata": {},
   "source": [
    "1. Przygotować korutynę, która asynchronicznie pobiera i zwraca zawartość strony internetowej z podanego adresu URL przy użyciu biblioteki aiohttp.\n",
    "2. Przygotować korutynę, która asynchronicznie wyśle żądanie POST do REST API z treścią w formacie JSON i zwróci odpowiedź.\n",
    "3. Przygotować program, który asynchronicznie pobiera treści z 5 różnych (dowolnych) stron internetowych w sposób współbieżny.\n",
    "4. Przygotować korutynę, która zwróci prognozę pogody dla najbliszej godziny dla miasta Zakopane. Wykorzystać w tym celu `API Open-Meteo` oraz przykładowy adres żądania: `https://api.open-meteo.com/v1/forecast?latitude=52.52&longitude=13.41&current=temperature_2m,wind_speed_10m&hourly=temperature_2m,relative_humidity_2m,wind_speed_10m`.\n",
    "5. Przygotować korutynę, która pobierze współbieżnie prognozę pogody dla miast Porlamar, Moroni i Helsinek, a następnie zwróci słownik zawierający klucze odpowiadające nazwom tych miast z wartościami prognozy pogody na najbliższą godzinę.\n",
    "6. Przygotować korutynę, która asynchronicznie pobierze prognozę pogody dla kilku wybranych miast, a następnie zwróci prognozy tylko dla tych miast, dla których prognoza spełnia warunki przekazane w słowniku będącym maską filtrowania. Przykładowo, maska filtrowania zawierająca klucz `wind_speed_10m` o wartości `< 20` pozostawi tylko te miasta, które w prognozie pogody dla nadchodzących godzin będą miały przypisaną prędkośc wiatru o wartości < 20 km/h.\n",
    "7. Przygotować program, który asynchronicznie pobierze plik binarny za pomocą wskazanego URL (np. obraz, wideo, nagranie) z sieci, a następnie zapisze go na dysku lokalnym pod wskazaną ścieżką.\n",
    "8. Przygotować korutynę, która asynchronicznie pobierze prognozę pogody dla przekazanych miast, a następnie zwróci te prognozy połączone w jeden słownik, posortowany malejąco według średniej temperatury następnego dnia.\n",
    "9. Przygotować program, który wyśle asynchronicznie 100 żądań do dowolnego REST API i zachowa tylko te odpowiedzi, które mają kod statusu odpowiedzi w zakresie 200-299. W przypadku błędu serwera (kody 500-599), powinien ponowić próbę wysłania żądania maksymalnie 3 razy.\n",
    "10. Przygotować program, który tworzy potok zadań asynchronicznych: żądanie do dowolnego API pobiera dane, następnie przetwarza je i finalnie zapisuje wynik na w systemie plików (np. w pliku tekstowym). Cały proces powinien być wykonany asynchronicznie."
   ]
  },
  {
   "cell_type": "markdown",
   "metadata": {},
   "source": []
  }
 ],
 "metadata": {
  "language_info": {
   "name": "python"
  }
 },
 "nbformat": 4,
 "nbformat_minor": 2
}
