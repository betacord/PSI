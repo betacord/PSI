{
 "cells": [
  {
   "cell_type": "markdown",
   "metadata": {},
   "source": [
    "# Wykład 1 - programowanie asynchroniczne"
   ]
  },
  {
   "cell_type": "markdown",
   "metadata": {},
   "source": [
    "## Programowanie współbieżne"
   ]
  },
  {
   "cell_type": "markdown",
   "metadata": {},
   "source": [
    "![alt text](../img/concurrency_example.webp \"Concurrency\")\n",
    "\n",
    "*(obrazek wygenerowany przez DALL-E)*"
   ]
  },
  {
   "cell_type": "markdown",
   "metadata": {},
   "source": [
    "**Programowanie współbieżne** (ang. concurrent programming) polega na wykonywaniu wielu zadań w tym samym czasie lub w sposób, który symuluje jednoczesne wykonywanie, aby zwiększyć efektywność działania programów. Celem jest optymalne wykorzystanie zasobów systemowych, takich jak procesory i pamięć, co pozwala przyspieszyć realizację złożonych zadań. W programowaniu współbieżnym istnieją różne podejścia, w tym programowanie synchroniczne, asynchroniczne i równoległe, które różnią się sposobem zarządzania wątkami, zadaniami i czasem ich wykonywania.\n",
    "\n",
    "**Programowanie synchroniczne** (ang. synchronous programming) zakłada, że zadania są wykonywane jedno po drugim, w sposób sekwencyjny. Każde zadanie musi zakończyć się, zanim kolejne zostanie rozpoczęte. To podejście jest proste w implementacji, ale może prowadzić do marnowania zasobów systemowych, szczególnie w sytuacjach, gdy jedno zadanie czeka na zakończenie operacji wejścia/wyjścia (np. oczekiwanie na dane z bazy). Synchroniczność zapewnia przewidywalność, ale nie zawsze jest optymalna w aplikacjach wymagających szybkości i elastyczności.\n",
    "\n",
    "**Programowanie asynchroniczne** (ang. asynchronous programming) polega na wykonywaniu zadań niezależnie od siebie, bez konieczności czekania na zakończenie jednego zadania, aby rozpocząć kolejne. W praktyce oznacza to, że program może kontynuować swoje działanie, nawet jeśli jedno z zadań wymaga np. długiego czasu oczekiwania na odpowiedź z serwera lub operację wejścia/wyjścia. W modelu asynchronicznym, zadania są uruchamiane równocześnie, a gdy jedno z nich zakończy się, wynik jest zwracany bez przerywania innych działań programu. Dzięki temu zwiększa się efektywność i responsywność aplikacji, co jest szczególnie ważne w przypadku aplikacji sieciowych, gdzie czas oczekiwania na dane może być nieprzewidywalny.\n",
    "\n",
    "**Programowanie równoległe** (ang. parallel programming) zakłada wykonywanie wielu zadań jednocześnie na różnych rdzeniach procesora lub procesorów. W przeciwieństwie do asynchroniczności, która polega na nieblokującym wykonywaniu zadań, równoległość faktycznie dzieli pracę między procesory w celu maksymalnego przyspieszenia obliczeń. Jest to technika szczególnie użyteczna w zadaniach wymagających dużych mocy obliczeniowych, takich jak obróbka grafiki, analizy danych, uczenie maszynowe lub symulacje. Programowanie równoległe pozwala na osiągnięcie znacznie wyższej wydajności poprzez rozbicie zadań na mniejsze podzadania, które mogą być wykonywane równolegle, skracając tym samym czas potrzebny na zakończenie całego procesu."
   ]
  },
  {
   "cell_type": "markdown",
   "metadata": {},
   "source": [
    "### Co jest nie tak z równoległością?"
   ]
  },
  {
   "cell_type": "markdown",
   "metadata": {},
   "source": [
    "#### Współdzielenie zasobów\n",
    "W sytuacji gdy wiele zadań wykonuje się jednocześnie w różnych wątkach, istnieje ryzyko, że kilka z nich będzie próbowało uzyskać dostęp do tych samych danych w tym samym czasie. To może prowadzić do tzw. wyścigów wątków (ang. race conditions), gdzie wynik programu zależy od tego, które zadanie uzyska dostęp do zasobu jako pierwsze, co może prowadzić do nieprzewidywalnych błędów.\n",
    "\n",
    "#### Synchronizacja wątków\n",
    "Synchronizacja wątków polega na ustaleniu właściwej kolejności operacji. Nawet jeśli uda się skutecznie podzielić zadania na równoległe procesy, konieczne jest zapewnienie, że wyniki każdego z nich zostaną prawidłowo połączone na końcu. Błędy synchronizacji mogą prowadzić do blokad wzajemnych (zakleszczeń, ang. deadlocks), gdy minimum dwa wątki czekają na siebie w nieskończoność, co może całkowicie zatrzymać działanie programu.\n",
    "\n",
    "#### Skomplikowane debugowanie\n",
    "Błędy związane z równoczesnym wykonywaniem wielu zadań są trudniejsze do odtworzenia i zdiagnozowania, ponieważ ich występowanie może być zależne od subtelnych czynników, takich jak czas wykonania, dostępność zasobów czy układ procesora. Oznacza to, że testowanie aplikacji równoległych wymaga szczególnej uwagi i często skomplikowanych narzędzi do monitorowania przebiegu zadań.\n",
    "\n",
    "#### GIL\n",
    "Global Interpreter Lock (GIL) to mechanizm intepretera języka Python, który ogranicza wykonywanie wątków w interpreterze do jednego na raz, nawet na komputerach wielordzeniowych. Został wprowadzony na wczesnym etapie rozwoju Pythona, w latach '90, przez Guido van Rossuma, w głównej implementacji CPython, aby uprościć zarządzanie pamięcią i synchronizację wątków. Jego celem było zapobieganie równoczesnemu dostępowi do zasobów pamięci, co zwiększało bezpieczeństwo i upraszczało implementację. Od wersji 3.13 (planowanie wydanie: 07.10.2024) blokada GIL będzie opcjonalna i znacznie łatwiejsza do wyłączenia, niż we wcześniejszych wersjach interpretera."
   ]
  },
  {
   "cell_type": "markdown",
   "metadata": {},
   "source": [
    "## Programowanie asynchroniczne w języku Python"
   ]
  },
  {
   "cell_type": "markdown",
   "metadata": {},
   "source": [
    "Problemów związanych z programowaniem równoległym można z łatwością uniknąć stosując podejście asynchroniczne. W znacznej większości przypadków programowania aplikacji sieciowych wystarczy jeden wątek obsługujący wiele zadań, które w większości czasu będą znajdowały się w stanie oczekiwania na odpowiedź z innej usługi sieciowej. Tego rodzaju podejście oszczędza nam znaczną ilość czasu, którą należałoby poświęcić na implementację rozwiązań unikających kolizji, czy zakleszczenia wątków. Warto mieć jednak na uwadze, że programowanie asynchroniczne wiąże się jednak również z dodatkowym wysiłkiem polegającym na obsłudze dodatkowych mechanizmów. Są one jednak nieporównywalnie łatwiejsze w zastosowaniu, nie wspominając już o deterinistycznym ich zachowaniu."
   ]
  },
  {
   "cell_type": "markdown",
   "metadata": {},
   "source": [
    "Język Python od swoich wczesnych wesji posiada wsparcie dla podejścia asynchronicznego. Obecnie najczęściej wykorzystywana jest biblioteka [asyncio](https://docs.python.org/3/library/asyncio.html), która od wersji 3.5 wchodzi w skład biblioteki standardowej języka Python. **Asyncio** umożliwia definiowanie funkcji asynchronicznych za pomocą słowa kluczowego `async def`, które mogą być wstrzymywane i wznawiane w różnych momentach za pomocą słowa `await`. Dzięki temu program może zająć się innymi zadaniami w trakcie oczekiwania na zakończenie długotrwałych operacji, poprawiając responsywność i wykorzystanie zasobów."
   ]
  },
  {
   "cell_type": "markdown",
   "metadata": {},
   "source": [
    "### Pierwszy program"
   ]
  },
  {
   "cell_type": "code",
   "execution_count": null,
   "metadata": {
    "vscode": {
     "languageId": "plaintext"
    }
   },
   "outputs": [],
   "source": [
    "import asyncio\n",
    "\n",
    "\n",
    "async def main() -> None:  # 1\n",
    "    await asyncio.sleep(1)  # 2\n",
    "    print(\"Hello world!\")\n",
    "\n",
    "\n",
    "if __name__ == \"__main__\":\n",
    "    with asyncio.Runner() as runner:  # 3\n",
    "        runner.run(main())  # 4"
   ]
  },
  {
   "cell_type": "markdown",
   "metadata": {},
   "source": [
    "1. Pojawia się nowe słowo kluczowe `async def`, które oznacza definicję nowej `korutyny`, czyli funkcję z moliwością przepinania kontekstu wywołania.\n",
    "2. Do \"zawieszenia\" korutyny wykorzystywana jest nieblokująca funkcja `sleep` pochodząca z biblioteki **asyncio**.\n",
    "3. Nowa instancja klasy `Runner` w postaci managera kontekstu, która automatyzuje procesy niezbędne do uruchomienia asynchronicznego kodu.\n",
    "4. Uruchomienie głównej korutyny."
   ]
  },
  {
   "cell_type": "markdown",
   "metadata": {},
   "source": [
    "Przedstawiony przykład można dodatkowo uprościć korzystając z funkcji `run`."
   ]
  },
  {
   "cell_type": "code",
   "execution_count": null,
   "metadata": {
    "vscode": {
     "languageId": "plaintext"
    }
   },
   "outputs": [],
   "source": [
    "import asyncio\n",
    "\n",
    "\n",
    "async def main() -> None:\n",
    "    await asyncio.sleep(1)\n",
    "    print(\"Hello world!\")\n",
    "\n",
    "\n",
    "if __name__ == \"__main__\":\n",
    "    asyncio.run(main())"
   ]
  },
  {
   "cell_type": "markdown",
   "metadata": {},
   "source": [
    "Do wywołania głównej korutyny została wykorzystana funkcja `run` zamiast instancji klasy `Runner`, co zmniejsza objętość kodu źródłowego. Istnieją jednak istotne różnice między zastosowanymi podejściami.\n",
    "\n",
    "1. Funkcja `run` automatycznie tworzy za każdym razem nową jednowątkową pętlę zdarzeń, a następnie zamyka ją gdy zadanie zostanie wykonane.\n",
    "2. Klasa `Runner` jest rozwiązaniem wprowadzonym w wersji 3.11 języka Python umożliwiająca większą kontrolę nad pętlą zdarzeń.\n",
    "3. Klasa `Runner` umożliwia uruchamianie wielu zadań w pętli zdarzeń (w różnych momentach), a także jej otwieranie i zamykanie."
   ]
  },
  {
   "cell_type": "markdown",
   "metadata": {},
   "source": [
    "![alt text](../img/event_loop.webp \"Event loop\")"
   ]
  },
  {
   "cell_type": "markdown",
   "metadata": {},
   "source": [
    "### Pierwszy program w postaci mniej zautomatyzowanej"
   ]
  },
  {
   "cell_type": "markdown",
   "metadata": {},
   "source": [
    "Stosowanie klasy `Runner` lub funkcji `run` nie są jedynymi rozwiązaniami uruchomienie kodu asynchronicznego. Operacje utworzenia, otwarcia i zamniecia pętli zdarzeń, a takż przekazywania i obsługi zadań mogą zostać wykonane manualnie."
   ]
  },
  {
   "cell_type": "code",
   "execution_count": null,
   "metadata": {
    "vscode": {
     "languageId": "plaintext"
    }
   },
   "outputs": [],
   "source": [
    "import asyncio\n",
    "\n",
    "\n",
    "async def main() -> None:\n",
    "    await asyncio.sleep(1)\n",
    "    print(\"Hello world!\")\n",
    "\n",
    "\n",
    "if __name__ == \"__main__\":\n",
    "    loop = asyncio.new_event_loop()\n",
    "    asyncio.set_event_loop(loop)  # 1\n",
    "    \n",
    "    task = loop.create_task(main())  # 2\n",
    "    loop.run_until_complete(task)  # 3\n",
    "\n",
    "    pending = asyncio.all_tasks(loop=loop)  # 4\n",
    "    for pending_task in pending:\n",
    "        pending_task.cancel()  # 5\n",
    "\n",
    "    group = asyncio.gather(*pending, return_exceptions=True)  # 6\n",
    "    loop.run_until_complete(group)  # 7\n",
    "\n",
    "    loop.close()  # 8"
   ]
  },
  {
   "cell_type": "markdown",
   "metadata": {},
   "source": [
    "- (1.) Powstaje nowa pętla zdarzeń, która następnie jest otwierana.\n",
    "- (2.) Tworzone jest nowe zadanie oraz planowane jest jego uruchomienie w pętli zdarzeń.\n",
    "- (3.) Blokowany jest wątek główny programu celem zapewnienia bezkolizyjnego działania pętli zdarzeń do czasu zakończenia działania wszystkich zaplanowanych zadań.\n",
    "- (4., 5.) Zebranie wszystkich oczekujących zadań po odblokowaniu wątku głównego.\n",
    "- (6.) Ponowne zebranie wszystkich zadań.\n",
    "- (7.) Dokończenie wszystkich zebranych zadań.\n",
    "- (8.) Zamknięcie pętli zdarzeń."
   ]
  },
  {
   "cell_type": "markdown",
   "metadata": {},
   "source": [
    "### Koprocedury"
   ]
  },
  {
   "cell_type": "markdown",
   "metadata": {},
   "source": [
    "Korutyny (koprocedury) w Pythonie, realizowane za pomocą biblioteki **asyncio**, to funkcje asynchroniczne, które mogą wstrzymywać swoje działanie w trakcie wykonywania, umożliwiając innym zadaniom współbieżne działanie w tym samym czasie. Koprocedury definiuje się za pomocą słowa kluczowego `async def`, a ich wstrzymywanie i wznawianie odbywa się przez użycie `await`, które przekazuje kontrolę do pętli zdarzeń, bez blokowania całego programu. Dzięki temu, koprocedury pozwalają na efektywne zarządzanie operacjami wejścia/wyjścia, jak oczekiwanie na odpowiedzi z usług sieciowych, operacje na systemie plików czy bazach danych, bez zbędnego zużywania zasobów systemowych. "
   ]
  },
  {
   "cell_type": "code",
   "execution_count": null,
   "metadata": {
    "vscode": {
     "languageId": "plaintext"
    }
   },
   "outputs": [],
   "source": [
    "async def foo() -> int:\n",
    "    return 10  # 1\n",
    "\n",
    "\n",
    "async def main() -> None:\n",
    "    result = await foo()  # 2\n",
    "    print(result)  # 3"
   ]
  },
  {
   "cell_type": "markdown",
   "metadata": {},
   "source": [
    "1. Nowa korutyna `foo` ma jedno zadanie - zwrócić wartość 10, w każdym przypadku. Nic nie stoi na przedzkodzie by umieścić w środku nieblokujący kod odwołujący się do innych usług sieciowych. Dzięki podejściu asynchronicznemu taka funkcja nie będzie blokowała wątku głównego aplikacji.\n",
    "2. Pojawia się nowe słowo kluczowe `await`, tuż obok wywoływanej korutyny. Dzięki temu słowu kluczowemu możliwe jest przekazanie dalszego sterowania pętli zdarzeń, a sama operacja realizowana za pomocą korutyny delegowana jest do wykonywania w tle.\n",
    "3. Po zakończeniu działania korutyny (zadania) foo zostanie zwrócony wynik, który następnie można wyświetlić jak każdy inny obiekt."
   ]
  },
  {
   "cell_type": "markdown",
   "metadata": {},
   "source": [
    "Język Python posiada pakiet `inspect`, który stanowi część biblioteki standardowej. Za jego pomocą można z łatwością sprawdzić czy dana funkcja lub metoda jest synchroniczna bądź asynchroniczna."
   ]
  },
  {
   "cell_type": "code",
   "execution_count": null,
   "metadata": {
    "vscode": {
     "languageId": "plaintext"
    }
   },
   "outputs": [],
   "source": [
    "import inspect\n",
    "\n",
    "coro = foo()\n",
    "inspect.iscoroutine(coro)"
   ]
  },
  {
   "cell_type": "markdown",
   "metadata": {},
   "source": [
    "### Kończenie działania asynchronicznych programów"
   ]
  },
  {
   "cell_type": "markdown",
   "metadata": {},
   "source": [
    "Programy asynchroniczne powinny mieć również wsparcie dla procesów ich kończenia. W znacznej większości przypadków programy komunikujące się współbieżnie z innymi usługami sieciowymi, czy systemem plików, powinny poprawnie zamykać wszelką otwartą komunikację. W przypadku stosowania biblioteki **asyncio** cały proces sprowadza się do przechwycenia momentu, w którym aplikacja kończy swoje działanie, a następnie uruchomieniu kodu odpowiedzialnego za zakończenie wszystkich zadań i zamknięcie pętli zdarzeń przed zakończeniem działania procesu."
   ]
  },
  {
   "cell_type": "code",
   "execution_count": null,
   "metadata": {
    "vscode": {
     "languageId": "plaintext"
    }
   },
   "outputs": [],
   "source": [
    "import asyncio\n",
    "\n",
    "\n",
    "async def main() -> None:  # 1\n",
    "    while True:\n",
    "        print(\"it works\")\n",
    "        await asyncio.sleep(1)\n",
    "\n",
    "\n",
    "if __name__ == \"__main__\":\n",
    "    loop = asyncio.new_event_loop()\n",
    "    asyncio.set_event_loop(loop)\n",
    "\n",
    "    task = loop.create_task(main())  # 2\n",
    "\n",
    "    try:\n",
    "        loop.run_until_complete(task)  # 3\n",
    "    except KeyboardInterrupt:  # 4\n",
    "        print(\"Closing the app\")\n",
    "\n",
    "        tasks = asyncio.all_tasks(loop=loop)  # 5\n",
    "        for task_ in tasks:\n",
    "            task_.cancel()\n",
    "        \n",
    "        group = asyncio.gather(*tasks, return_exceptions=True)\n",
    "        loop.run_until_complete(group)\n",
    "        loop.close()"
   ]
  },
  {
   "cell_type": "markdown",
   "metadata": {},
   "source": [
    "1. Korutyna `main` uruchamia nieskończoną pętlę, co jest typowe dla działania usług sieciowych.\n",
    "2. W przypadku przejęcia kontroli nad procesem kończenia owartych zadań i zamykania pętli zdarzeń, należy najpierw utworzyć te obiekty manualnie.\n",
    "3. Wątek główny jest blokowany wewnątrz bloku `try` z uwagi na łapanie zdarzenia wyłączenia aplikacji w punkcie 4. za pomocą bloku `except`.\n",
    "4. Złowienie wyjątku klasy `KeyboardInterrupt` odpowiada przechwyceniu akcji, gdy użytkownik wciśnie kombinację klawiszy `ctrl+c`. Działając w tym bloku można uruchomić kod, który wykona się jeszcze przed zakończeniem działania procesu.\n",
    "5. Przed zakończeniem działania procesu należy wykonać standardowe kroki kończące aplikację asynchroniczną, czyli zgromadzenie i zgrupowanie wszystkich działających zadań, a następnie dokończenie ich i zamknięcie pętli zdarzeń."
   ]
  },
  {
   "cell_type": "markdown",
   "metadata": {},
   "source": [
    "## Zadania do wykonania na ćwiczeniach\n",
    "\n",
    "Wszystkie zadania należy wykonać za pomocą biblioteki **asyncio**."
   ]
  },
  {
   "cell_type": "markdown",
   "metadata": {},
   "source": [
    "1. Utworzyć korutynę, która wstrzymuje działanie na 2 sekundy, a potem wyświetla komunikat o treści \"Oczekiwanie zakończone\".\n",
    "2. Utwórz korutynę, która wyświetla wiadomość \"Hello\" po jednej sekundzie i \"world\" po dwóch sekundach.\n",
    "3. Utworzyć dwie korutyny, a nstępnie je uruchomić współbienie. Obie korutyny będą miały takie samo działanie: oczekują zadaną ilość czasu, a następnie wyświetlają komunikat. Niech pierwsza z nich czeka trzy sekundy, a druga jedną sekundę.\n",
    "4. Utworzyć aplikację, która co sekundę wyświetla kolejne liczby od 1 do 5. Należy pamiętać o zastosowaniu podejścia asynchronicznego!\n",
    "5. Utworzyć aplikację, która będzie wykonywała się przez N sekund, co sekundę wyświetlając kolejną liczbę `ciągu Fibonacciego`.\n",
    "6. Utworzyć aplikację, która będzie symulowała pobieranie danych z innych usług sieciowych. W tym celu należy utworzyć korutynę `fetch(delay: int)`, która po odczekaniu `delay` sekund zwróci dowolną wartość (symulacja pobierania danych z sieci). Następnie należy kilkukrotnie wywołać współbieżnie korutynę `fetch` z różnymi wartościami parametru `delay`. **Podpowiedź**: do współbieżnego wywołania wielu korutyn można wykorzystać funkcję `gather`, która zostanie umieszczona w dedykowanej korutynie. Wówczas nie ma potrzeby stosowania manualnego podejścia zarządzania zadaniami oraz pętlą zdarzeń.\n",
    "7. Zadanie polega na symulowaniu kuchni, w której kilku kucharzy przygotowuje różne posiłki równocześnie. Każdy posiłek składa się z kilku etapów, np. krojenie warzyw, gotowanie makaronu, smażenie mięsa. Każdy etap trwa określony czas i jest realizowany asynchronicznie. Kucharze przygotowują trzy różne dania. Każde danie wymaga wykonania trzech kroków, które trwają różny czas (np. krojenie – 2 sekundy, gotowanie – 5 sekund, smażenie – 3 sekundy).\n",
    "8. Zadanie polega na symulowaniu przetwarzania pięciu dużych plików, gdzie każdy plik musi przejść przez kilka etapów przetwarzania, takich jak wczytanie, analiza i zapis. Każdy z tych kroków trwa określony czas i musi być wykonany asynchronicznie. Każdy plik przechodzi przez trzy etapy: wczytanie (2 sekundy), analiza (4 sekundy), zapis (1 sekunda). Symuluj asynchroniczne przetwarzanie wszystkich plików naraz.\n",
    "9. Zadanie polega na symulacji harmonogramu pracy w fabryce, gdzie różne maszyny wykonują swoje zadania w ustalonych przedziałach czasu. Maszyny muszą czekać na zakończenie poprzedniego cyklu zanim zaczną kolejny. Ustalić, aby każda maszyna działała w innym tempie, a wszystkie zadania były asynchroniczne. Każda maszyna ma swój cykl pracy, który powtarza się w określonym czasie (np. maszyna A – co 2 sekundy, maszyna B – co 3 sekundy, maszyna C – co 5 sekund). Należy zasymulować ich działanie przez 15 sekund."
   ]
  },
  {
   "cell_type": "markdown",
   "metadata": {},
   "source": []
  }
 ],
 "metadata": {
  "language_info": {
   "name": "python"
  }
 },
 "nbformat": 4,
 "nbformat_minor": 2
}
