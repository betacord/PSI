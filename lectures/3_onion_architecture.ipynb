{
 "cells": [
  {
   "cell_type": "markdown",
   "metadata": {},
   "source": [
    "# Wykład 3 - architektura wielowarstwowa"
   ]
  },
  {
   "cell_type": "markdown",
   "metadata": {},
   "source": [
    "## Architektura model-widok-kontroler"
   ]
  },
  {
   "cell_type": "markdown",
   "metadata": {},
   "source": [
    "Model-widok-kontroler (ang. model-view-controller, MVC) to klasyczny wzorzec architektoniczny, który dzieli aplikację na trzy główne komponenty: model, widok i kontroler. Wzorzec ten ma na celu oddzielenie logiki biznesowej (model) od interfejsu użytkownika (widok), przy jednoczesnym umożliwieniu kontrolerowi koordynowania interakcji między nimi. Model odpowiada za dane i logikę aplikacji, widok zajmuje się prezentacją danych, a kontroler działa jako mediator, przetwarzając żądania użytkownika i wywołując odpowiednie operacje na modelu oraz aktualizując widoki."
   ]
  },
  {
   "cell_type": "markdown",
   "metadata": {},
   "source": [
    "![alt text](../img/mvc.webp \"MVC architecture\")"
   ]
  },
  {
   "cell_type": "markdown",
   "metadata": {},
   "source": [
    "We frameworku Django, ten wzorzec funkcjonuje pod nazwą Model-Widok-Szablon (ang. model-view-template, MVT). MVT to w rzeczywistości odmiana MVC, gdzie **Kontroler** w tradycyjnym rozumieniu MVC jest niejako zintegrowany z frameworkiem i obsługiwany przez system routingu, a deweloperzy pracują bardziej na poziomie widoków i szablonów. W Django, model nadal reprezentuje dane i logikę aplikacji, ale zamiast klasycznego widoku w MVC, mamy tu szablony, które zarządzają renderowaniem danych w formie HTML. Widoki w Django natomiast pełnią bardziej rolę kontrolera, odpowiadając na żądania i przygotowując dane dla szablonów."
   ]
  },
  {
   "cell_type": "markdown",
   "metadata": {},
   "source": [
    "Pomimo popularności architektur MVC/MVT w przeszłości, obecnie ten wzorzec nie jest już tak powszechnie stosowany w nowych projektach. Po pierwsze, nowoczesne systemy internetowe często mają złożoną architekturę warstwy klienckiej, która wymaga bardziej dynamicznej komunikacji między serwerem a klientem, na przykład poprzez REST API. W takich przypadkach wzorzec architektoniczny Model-View-ViewModel (MVVM) lub architektura oparta na komponentach (typowa dla framerowka Angular) lepiej się sprawdza. Dzięki temu, logika prezentacji oraz interakcji użytkownika są bardziej scentralizowane w aplikacji klienckiej, podczas gdy serwer dostarcza tylko dane w postaci API.\n",
    "\n",
    "Kolejnym powodem spadku popularności wzorca MVC jest rozwój architektury mikrousługowej rozproszonej, gdzie aplikacje są dzielone na wiele mniejszych usług. Takie podejście promuje wykorzystanie lżejszych, bardziej modularnych wzorców, które lepiej odpowiadają na potrzeby skalowalności i elastyczności w rozwoju oprogramowania."
   ]
  },
  {
   "cell_type": "markdown",
   "metadata": {},
   "source": [
    "## Architektura wielowarstwowa"
   ]
  },
  {
   "cell_type": "markdown",
   "metadata": {},
   "source": [
    "\n",
    "**Architektura wielowarstwowa**, znana także jako **architektura cebulowa** (ang. onion architecture), jest podejściem do projektowania aplikacji, które oddziela poszczególne aspekty systemu w jasno określone warstwy. Głównym celem tego podejścia jest maksymalne oddzielenie logiki biznesowej od infrastruktury, co pozwala na większą elastyczność, łatwość w testowaniu oraz zmniejszenie zależności pomiędzy komponentami. Architektura cebulowa jest często wykorzystywana w aplikacjach internetowych."
   ]
  },
  {
   "cell_type": "markdown",
   "metadata": {},
   "source": [
    "![alt text](../img/onion.jpg \"Onion architecture\")"
   ]
  },
  {
   "cell_type": "markdown",
   "metadata": {},
   "source": [
    "### Warstwa domeny\n",
    "\n",
    "**Warstwa domeny** (ang. domain layer) stanowi centrum architektury cebulowej i jest kluczową częścią systemu. Zawiera logikę biznesową oraz definicje podstawowych obiektów domeny, które reprezentują główne założenia systemu. W przypadku REST API, warstwa domeny nie zawiera kodu specyficznego dla komunikacji zewnętrznej, baz danych ani technologii zewnętrznych. Skupia się na operacjach i regułach biznesowych.\n",
    "\n",
    "Przykładowo, w systemie zarządzania zamówieniami, obiektem domeny może być *Zamówienie* z odpowiednimi atrybutami, takimi jak *ID*, *Produkty* czy *Status*. Warstwa domeny może także zawierać interfejsy dla usług i repozytoriów, aby uniknąć bezpośrednich zależności od implementacji technologicznych."
   ]
  },
  {
   "cell_type": "markdown",
   "metadata": {},
   "source": [
    "### Warstwa repozytorium\n",
    "\n",
    "**Warstwa repozytorium** (ang. repository layer) odpowiada za interakcję z bazą danych lub innymi usługami zewnętrznymi, w których dane są przechowywane lub przetwarzane. Repozytorium implementuje wzorzec Repository, który jest odpowiedzialny za dostarczanie obiektów domeny do warstwy usług lub prezentacji. Ważne jest, aby repozytorium nie zawierało logiki biznesowej, a jedynie operacje na danych, takie jak zapisywanie, usuwanie, czy odczytywanie informacji.\n",
    "\n",
    "W kontekście REST API, warstwa repozytorium może przykładowo pobierać dane z bazy danych o zamówieniach i dostarczać je do warstwy usług. Repozytorium powinno być abstrakcyjne względem technologii, dzięki czemu można łatwo zmienić źródło danych bez wpływu na inne warstwy systemu."
   ]
  },
  {
   "cell_type": "markdown",
   "metadata": {},
   "source": [
    "### Warstwa usług\n",
    "\n",
    "**Warstwa usług** (ang. service layer) pośredniczy pomiędzy warstwą domeny a zewnętrznymi warstwami, takimi jak warstwa prezentacji. Zawiera logikę aplikacji, która obsługuje wymagania biznesowe i reguły określone w warstwie domeny. W REST API, warstwa usług może implementować logikę dla różnych operacji, takich jak dodatkowa obsługa żądań HTTP, przetwarzanie danych wejściowych, walidacja danych oraz koordynowanie interakcji z warstwą repozytorium.\n",
    "\n",
    "Przykładowo, gdy użytkownik wysyła zapytanie HTTP za pomocą metody GET w celu pobrania zamówienia, warstwa usług jest odpowiedzialna za pobranie danych z repozytorium, przetworzenie ich i zwrócenie w odpowiedniej formie do warstwy prezentacji celem wygenerowania właściwej odpowierdzi HTTP. Warstwa usług nie powinna zawierać logiki związanej stricte z technologią REST, a jedynie operacje związane z logiką biznesową."
   ]
  },
  {
   "cell_type": "markdown",
   "metadata": {},
   "source": [
    "### Warstwa prezentacji\n",
    "\n",
    "**Warstwa prezentacji** (ang. presentation layer) odpowiada za interakcję z użytkownikami lub innymi systemami zewnętrznymi. W przypadku REST API jest to warstwa odpowiedzialna za odbieranie żądań HTTP, ich przetwarzanie oraz zwracanie odpowiedzi w formacie JSON, XML czy innego standardu wymiany danych. W tej warstwie często wykorzystuje się z biblioteki i frameworki, takich jak **FastAPI**, **Django** czy **NodeJS**, które obsługują routing i odpowiedzi HTTP.\n",
    "\n",
    "Ta warstwa powinna być jak najcieńsza i skupiać się głównie na delegowaniu obsługi żądań do warstwy usług. Przykładowo, kiedy użytkownik wysyła żądanie **POST** w celu utworzenia nowego zamówienia, warstwa prezentacji odbiera dane, przekazuje je do warstwy usług, a następnie zwraca odpowiedź z odpowiednim kodem HTTP (np. 201) oraz ewentualnymi danymi wynikowymi."
   ]
  },
  {
   "cell_type": "markdown",
   "metadata": {},
   "source": [
    "Warto zauwayć, że w architekturze cebulowej, REST API działa jako zewnętrzna warstwa prezentacji, która komunikuje się z warstwą usług. Właściwe rozdzielenie obowiązków w poszczególnych warstwach zapewnia, że aplikacja jest modularna, łatwa do rozbudowy i utrzymania. Każda warstwa ma jasno określony zakres odpowiedzialności, a zmiany w jednej z nich (np. wymiana źródła danych) nie wpływają na inne warstwy, co minimalizuje ryzyko wystąpienia błędów oraz ułatwia testowanie poszczególnych komponentów.\n",
    "\n",
    "Dzięki takiej architekturze REST API jest bardziej odporne na zmiany technologiczne, co ułatwia skalowanie i długoterminowe utrzymanie systemu."
   ]
  },
  {
   "cell_type": "markdown",
   "metadata": {},
   "source": [
    "## Przykładowa aplikacja z wykorzystaniem architektury wielowarstwowej"
   ]
  },
  {
   "cell_type": "markdown",
   "metadata": {},
   "source": [
    "Celem aplikacji jest prezentacja parametrów jakości powietrza na podstawie danych udostępnianych przez GIOŚ: https://powietrze.gios.gov.pl/pjp/content/api. Prezentowana aplikacja będzie miała dwie kluczowe funkcjonalności:\n",
    "- prezentacja średniej wartości pyłu zawieszonego PM10 dla wybranej lokalizacji na przestrzeni ostatnich N godzin,\n",
    "- prezentacja indeksu jakości powietrza na podstawie ostatniego odczytu wartości pyłu zawieszonego PM10.\n",
    "\n",
    "Pełna implementacja dostępna jest w ścieżce [src/onion_architecture_strong](https://github.com/betacord/PSI/tree/main/src/onion_architecture_strong). Poniżej prezentowane są jedynie najważniejsze fragmenty."
   ]
  },
  {
   "cell_type": "markdown",
   "metadata": {},
   "source": [
    "Fundament aplikacji stanowi warstwa domeny, która reprezentuje główną encję aplikacji w postaci modelu danych reprezentujących jakość powietrza."
   ]
  },
  {
   "cell_type": "code",
   "execution_count": null,
   "metadata": {
    "vscode": {
     "languageId": "plaintext"
    }
   },
   "outputs": [],
   "source": [
    "@dataclass\n",
    "class AirQualityRecord:\n",
    "    event_time: datetime\n",
    "    pm10_value: float"
   ]
  },
  {
   "cell_type": "markdown",
   "metadata": {},
   "source": [
    "Warstwa repozytorium stanowi komponent dostarczający dane o jakości powietrza. Zwykle źródłem jest baza danych, lecz w tym przypadku dane będą pochodziły z API GIOŚ. Warstwa repozytorium będzie miała dwa główne cele: dostarczenie wszystkich odczytów parametrów jakości powietrza z ostatnich N godzin oraz dostarczenie najnowszego odczytu."
   ]
  },
  {
   "cell_type": "code",
   "execution_count": null,
   "metadata": {
    "vscode": {
     "languageId": "plaintext"
    }
   },
   "outputs": [],
   "source": [
    "class AirQualityRepository:\n",
    "    async def get_last_air_quality_params(self, sensor_id: int) -> AirQualityRecord | None:\n",
    "        all_params = await self._get_params(sensor_id)\n",
    "        parsed_params = await self._parse_params(all_params)\n",
    "\n",
    "        return parsed_params[0]\n",
    "\n",
    "    async def get_all_air_quality_params(self, sensor_id: int) -> Iterable[AirQualityRecord] | None:\n",
    "        all_params = await self._get_params(sensor_id)\n",
    "        parsed_params = await self._parse_params(all_params)\n",
    "\n",
    "        return parsed_params\n",
    "\n",
    "    async def _get_params(self, sensor_id: int) -> Iterable[dict] | None:\n",
    "        async with aiohttp.ClientSession() as session:\n",
    "            async with session.get(consts.API_SENSOR_URL.format(sensor_id=sensor_id)) as response:\n",
    "                if response.status != 200:\n",
    "                    return None\n",
    "                \n",
    "                return await response.json()\n",
    "            \n",
    "    async def _parse_params(self, params: Iterable[dict]) -> Iterable[AirQualityRecord]:\n",
    "        return [AirQualityRecord(event_time=record.get(\"date\"), pm10_value=record.get(\"value\")) for record in params[\"values\"]]"
   ]
  },
  {
   "cell_type": "markdown",
   "metadata": {},
   "source": [
    "Dane pochodzące z repozytorium to instancje klas znajdujących się w warstwie domeny. Są one w surowym formacie, który wymaga dalszej obróbki. W tym celu warstwa usług będzie realizowała cele zgodne z logiką biznesową: dostarczenie indeksu jakości powietrza na podstawie najnowszego odczytu oraz wyliczenie średniej wartości pyłu zawieszonego PM10 na podstawie odczytów z ostatnich N godzin."
   ]
  },
  {
   "cell_type": "code",
   "execution_count": null,
   "metadata": {
    "vscode": {
     "languageId": "plaintext"
    }
   },
   "outputs": [],
   "source": [
    "class AirQualityService:\n",
    "    repository: AirQualityRepository\n",
    "\n",
    "    def __init__(self, repository: AirQualityRepository) -> None:\n",
    "        self.repository = repository\n",
    "\n",
    "    async def get_air_quality_index(self, sensor_id: int) -> str:\n",
    "        pm10_current_value = await self.repository.get_last_air_quality_params(sensor_id=sensor_id)\n",
    "        pm10_index_value = PM10IndexEnum.from_pm10_value(pm10_current_value.pm10_value)\n",
    "\n",
    "        return pm10_index_value\n",
    "    \n",
    "    async def get_mean_params(self, sensor_id: int) -> float:\n",
    "        all_quality_params = await self.repository.get_all_air_quality_params(sensor_id=sensor_id)\n",
    "        mean_air_quality_params = sum([r.pm10_value for r in all_quality_params if r.pm10_value is not None]) / len(all_quality_params)\n",
    "\n",
    "        return mean_air_quality_params"
   ]
  },
  {
   "cell_type": "markdown",
   "metadata": {},
   "source": [
    "W tym przypadku warstwa prezentacji zostanie pominięta. Można ją zastąpić dowolnym narzędziem w późniejszym czasie. To jedna z kluczowych zalet architektury cebulowej."
   ]
  },
  {
   "cell_type": "markdown",
   "metadata": {},
   "source": [
    "Po co jednak rozbijać prostą aplikację na tyle klas?"
   ]
  },
  {
   "cell_type": "markdown",
   "metadata": {},
   "source": [
    "## Przykładowa aplikacja z wykorzystaniem lepszego wariantu architektury wielowarstwowej"
   ]
  },
  {
   "cell_type": "markdown",
   "metadata": {},
   "source": [
    "Jednym z najważniejszych założeń architektury wielowarstwowej jest łatwa wymienność poszczególnych warstw. Przykładowo, w systemie może istnieć kilka implementacji repozytorium dostarczającego dane o jakości powietrza. Pierwsza z nich będzie dostarczała dane pochodzące z bazy danych, a druga z zewnętrznej usługi przy zachowaniu jednolitości tych danych. Każde z tych repozytoriów będzie implementowało ten sam interfejs, dzięki czemu wyższa warstwa może bezproblemowo używać dowolnej implementacji takiego repozytorium. W praktyce operacja wyboru wykorzystywanej implementacji takiej warstwy jest realizowana w **kontenerze wstrzykiwania zależności**."
   ]
  },
  {
   "cell_type": "markdown",
   "metadata": {},
   "source": [
    "Przykładowa aplikacja będzie realizowała dokładnie te same założenia biznesowe, co powyższa. Jedyną różnicą jest zastosowanie bardziej optymalnego podejścia architektonicznego polegającego na luźnych powiązaniach pomiędzy klasami.\n",
    "\n",
    "Pełna implementacja dostępna jest w ścieżce [src/onion_architecture_weak](https://github.com/betacord/PSI/tree/main/src/onion_architecture_weak). Poniżej prezentowane są jedynie najważniejsze fragmenty."
   ]
  },
  {
   "cell_type": "markdown",
   "metadata": {},
   "source": [
    "Fundament aplikacji stanowi, podobnie jak wcześniej, warstwa domeny."
   ]
  },
  {
   "cell_type": "code",
   "execution_count": null,
   "metadata": {
    "vscode": {
     "languageId": "plaintext"
    }
   },
   "outputs": [],
   "source": [
    "@dataclass\n",
    "class AirQualityRecord:\n",
    "    event_time: datetime\n",
    "    pm10_value: float"
   ]
  },
  {
   "cell_type": "markdown",
   "metadata": {},
   "source": [
    "Kolejnym krokiem powinno być przygotowanie implementacji warstwy repozytorium. Z racji faktu, że poszczególne warstwy powinny mieć *wymienne* implementacje, sposobem na to jest przygotowanie interfejsu wskazującego wymagania, które powinna każda taka implementacja spełniać. Z uwagi na charakter języka Python, jedynym możliwym rozwiązaniem jest **klasa abstrakcyjna**."
   ]
  },
  {
   "cell_type": "code",
   "execution_count": null,
   "metadata": {
    "vscode": {
     "languageId": "plaintext"
    }
   },
   "outputs": [],
   "source": [
    "class IAirQualityRepository(ABC):\n",
    "    async def get_last_air_quality_params(self, sensor_id: int) -> AirQualityRecord | None:\n",
    "        pass\n",
    "\n",
    "    async def get_all_air_quality_params(self, sensor_id: int) -> Iterable[AirQualityRecord] | None:\n",
    "        pass"
   ]
  },
  {
   "cell_type": "markdown",
   "metadata": {},
   "source": [
    "Zaprezentowana specyfikacja repozytorium umożliwia zdefiniowanie właściwych implementacji. W tym przypadku, podobnie jak poprzednio, API GIOŚ posłuży jako źródło danych. Nic nie stoi jednak na przeszkodzie aby przygotować kolejną implementację takiego repozytorium, które będzie wykorzystywało inne źródło danych. Będzie to krok, który w dużym stopniu przysłuży się podniesieniu odporności opracowywanej aplikacji na awarie związane z probmemami w dostępie do danych."
   ]
  },
  {
   "cell_type": "code",
   "execution_count": null,
   "metadata": {
    "vscode": {
     "languageId": "plaintext"
    }
   },
   "outputs": [],
   "source": [
    "class AirQualityRepository(IAirQualityRepository):\n",
    "    async def get_last_air_quality_params(self, sensor_id: int) -> AirQualityRecord | None:\n",
    "        all_params = await self._get_params(sensor_id)\n",
    "        parsed_params = await self._parse_params(all_params)\n",
    "\n",
    "        return parsed_params[0]\n",
    "\n",
    "    async def get_all_air_quality_params(self, sensor_id: int) -> Iterable[AirQualityRecord] | None:\n",
    "        all_params = await self._get_params(sensor_id)\n",
    "        parsed_params = await self._parse_params(all_params)\n",
    "\n",
    "        return parsed_params\n",
    "\n",
    "    async def _get_params(self, sensor_id: int) -> Iterable[dict] | None:\n",
    "        async with aiohttp.ClientSession() as session:\n",
    "            async with session.get(consts.API_SENSOR_URL.format(sensor_id=sensor_id)) as response:\n",
    "                if response.status != 200:\n",
    "                    return None\n",
    "                \n",
    "                return await response.json()\n",
    "            \n",
    "    async def _parse_params(self, params: Iterable[dict]) -> Iterable[AirQualityRecord]:\n",
    "        return [AirQualityRecord(event_time=record.get(\"date\"), pm10_value=record.get(\"value\")) for record in params[\"values\"]]"
   ]
  },
  {
   "cell_type": "markdown",
   "metadata": {},
   "source": [
    "Korzystając z takiego samego podejścia należy przygotować implementację warstwy usług."
   ]
  },
  {
   "cell_type": "code",
   "execution_count": null,
   "metadata": {
    "vscode": {
     "languageId": "plaintext"
    }
   },
   "outputs": [],
   "source": [
    "class IAirQualityService(ABC):\n",
    "    async def get_air_quality_index(self, sensor_id: int) -> str:\n",
    "        pass\n",
    "\n",
    "    async def get_mean_params(self, sensor_id: int) -> float:\n",
    "        pass"
   ]
  },
  {
   "cell_type": "code",
   "execution_count": null,
   "metadata": {
    "vscode": {
     "languageId": "plaintext"
    }
   },
   "outputs": [],
   "source": [
    "class AirQualityService(IAirQualityService):\n",
    "    repository: AirQualityRepository\n",
    "\n",
    "    def __init__(self, repository: AirQualityRepository) -> None:\n",
    "        self.repository = repository\n",
    "\n",
    "    async def get_air_quality_index(self, sensor_id: int) -> str:\n",
    "        pm10_current_value = await self.repository.get_last_air_quality_params(sensor_id=sensor_id)\n",
    "        pm10_index_value = PM10IndexEnum.from_pm10_value(pm10_current_value.pm10_value)\n",
    "\n",
    "        return pm10_index_value\n",
    "    \n",
    "    async def get_mean_params(self, sensor_id: int) -> float:\n",
    "        all_quality_params = await self.repository.get_all_air_quality_params(sensor_id=sensor_id)\n",
    "        mean_air_quality_params = sum([r.pm10_value for r in all_quality_params if r.pm10_value is not None]) / len(all_quality_params)\n",
    "\n",
    "        return mean_air_quality_params"
   ]
  },
  {
   "cell_type": "markdown",
   "metadata": {},
   "source": [
    "W przypadku korzystania z luźnych powiązań między klasami warto zwrócić uwagę na aspekt typów poszczególnych implementacji poszczególnych warstw. Główny moduł aplikacji (może być interpretowany jako warstwa prezentacji) porusza się w obrębie typów zdefiniowanych przez klasy abstrakcyjne z uwagi na niejednorodność klas realizujących implementacje warstw. "
   ]
  },
  {
   "cell_type": "code",
   "execution_count": null,
   "metadata": {
    "vscode": {
     "languageId": "plaintext"
    }
   },
   "outputs": [],
   "source": [
    "async def main(\n",
    "        service: IAirQualityService = Provide[Container.service],\n",
    ") -> None:\n",
    "    last_pm10_index = await service.get_air_quality_index(consts.SENSOR_ID)\n",
    "    mean_pm10_value = await service.get_mean_params(consts.SENSOR_ID)\n",
    "\n",
    "    print(f\"Current AQI: {last_pm10_index}, average PM10 value: {mean_pm10_value}\")\n",
    "\n",
    "\n",
    "if __name__ == \"__main__\":\n",
    "    container = Container()\n",
    "    container.wire(modules=[__name__])\n",
    "\n",
    "    asyncio.run(main())"
   ]
  },
  {
   "cell_type": "markdown",
   "metadata": {},
   "source": [
    "W szczególności warto przyjrzeć się parametrowi korutyny `main`. Dostarczana jest tam implementacja warstwy usług, lecz w sposób bardzo ogólny. Parametr jest określony jedynie ogólnym typem. Na tym etapie jest wystarczający, a dobór właściwej implementacji jest realizowany w klasie kontenera wstrzykującego zależności (ang. dependency injection). W takim kontenerze zależności mogą być dobierane \"na sztywno\" lub warunkowo, np. w zależności od dostępności poszczególnych usług zewnętrznych w celu uniknięcia awarii. W celu uniknięcia sztywnych powiązań w kodzie źródłowym (*tzw. hardkodowanie*) zależności często są definiowane w plikach tekstowych, co w dużym stopniu ułatwia ich późniejsze wdrożenie w środowiskach chmurowych."
   ]
  },
  {
   "cell_type": "code",
   "execution_count": null,
   "metadata": {
    "vscode": {
     "languageId": "plaintext"
    }
   },
   "outputs": [],
   "source": [
    "class Container(containers.DeclarativeContainer):\n",
    "    config = providers.Configuration()\n",
    "\n",
    "    repository = providers.Singleton(\n",
    "        AirQualityRepository,\n",
    "    )\n",
    "\n",
    "    service = providers.Factory(\n",
    "        AirQualityService,\n",
    "        repository=repository,\n",
    "    )"
   ]
  },
  {
   "cell_type": "markdown",
   "metadata": {},
   "source": [
    "## Zadania do wykonania na ćwiczeniach\n",
    "\n",
    "1. Korzystając z architektury cebulowej oraz z podejścia asynchronicznego, przygotować aplikację która pobierze wszystki posty z adresu `https://jsonplaceholder.typicode.com/posts`, a następnie zapisze je w bazie danych w pamięci procesu (np. w liście obiektów) i pozwoli na przefiltrowanie ich po fragmencie tytułu lub treści. W aplikacji powinna znaleźć się również funkcjonalność pozwalająca na zwrócenie danych w formacie JSON. Należy pamiętać o umieszczeniu poszczególnych funkcjonalności w odpowiednich warstwach zgodnie z podziałem odpowiedzialności.\n",
    "2. Korzystając z architektury cebulowej oraz z podejścia asynchronicznego, przygotować aplikację która pobierze współbieżnie wszystki posty i komentarze dostępne pod adresami odpowiednio `https://jsonplaceholder.typicode.com/posts` oraz `https://jsonplaceholder.typicode.com/comments`, a następnie zapisze je w bazie danych w pamięci procesu. Aplikacja powinna mieć automatyczny mechanizm czyszczenia bazy danych z rekordów, które nie były używane od N sekund (każdy z postów wraz z komentarzami powinny mieć dodatkowy atrybut zawierający czas ostatniego użycia). W aplikacji powinna znaleźć się funkcjonalność pozwalająca na przefiltrowanie postów po tytule lub treści, bądź nazwie autora lub po treści komentarza. W aplikacji powinna znaleźć się także funkcjonalność pozwalająca na posortowanie obiektów po czasie ostatniego użycia. "
   ]
  },
  {
   "cell_type": "markdown",
   "metadata": {},
   "source": []
  }
 ],
 "metadata": {
  "language_info": {
   "name": "python"
  }
 },
 "nbformat": 4,
 "nbformat_minor": 2
}
